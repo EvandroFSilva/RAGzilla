{
 "cells": [
  {
   "cell_type": "code",
   "execution_count": null,
   "id": "2a61d7c7",
   "metadata": {},
   "outputs": [
    {
     "name": "stdout",
     "output_type": "stream",
     "text": [
      "Total de chunks gerados: 117\n",
      "Exemplo de chunk com metadados:\n",
      " {'text': 'Página 1 de 12 CONTRATO DE ASSOCIAÇÃO DE EMPRESA Pelo presente instrumento e na melhor forma de direito, de um lado, AJJ SERVIÇOS CONTABÉIS LTDA, pessoa jurídica de direito privado, inscrita no CNPJ sob o nº 28. 913.7060001-63, com sede na Rua Alfred Charvet, nº 710, Bairro Vila Nova, AraucáriaPR, CEP: 83.703-278, neste ato, representada por seu sócio administrador, Jhonny Cézar de Jesus Falavinha, brasileiro, portador do RG nº 6.223.402-4 SSPPR, inscrito no CPF nº 007.724.809-07, doravante denominada EMPRESA ASSOCIADA, e de outro lado, o PARQUE CIENTÍFICO E TECNOLÓGICO DE BIOCIÊNCIAS LTDA, pessoa jurídica de direito privado, inscrito no CNPJ sob o nº 21.526.7090001-03, com sede na Rodovia PR-182, Km 320321, sn, Condomínio Industrial Biopark, no município de Toledo, Estado do Paraná, CEP 85.919-899, neste ato representada por seu sócio administrador, Victor Donaduzzi, brasileiro, inscrito no CPF sob o nº 047.139.439-40, doravante denominado BIOPARK. As Partes resolvem celebrar o presente Contrato de Associação de Empresa, em observância à legislação aplicável ao caso e em conformidade com as cláusulas e condições a seguir: PREÂMBULO Para os fins deste contrato, considera-se EMPRESA ASSOCIADA aquela formalmente vinculada ao BIOPARK, que utiliza de seus espaços e serviços para desenvolver seus negócios, porém, com presença diária no território. CLÁUSULA PRIMEIRA DO OBJETO O presente contrato tem como objeto a prestação de serviços listados a seguir, por parte do BIOPARK: Parágrafo Primeiro: Constitui objeto deste contrato a prestação', 'source_file': 'AJJ.SERVICOS.CONTABEIS.LTDA.-.Contrato.de.Empresa.Associada.1.pdf', 'page_number': 1}\n"
     ]
    }
   ],
   "source": [
    "from pypdf import PdfReader\n",
    "from langchain.text_splitter import RecursiveCharacterTextSplitter\n",
    "import re\n",
    "import os\n",
    "import tiktoken\n",
    "\n",
    "# Pasta com PDFs\n",
    "pdf_folder = r\"D:\\Ciencia de Dados\\Projeto Integrador de Extenção 3\\RAGzilla\\project\\data\"\n",
    "\n",
    "# Lista todos os PDFs\n",
    "pdf_files = [f for f in os.listdir(pdf_folder) if f.lower().endswith(\".pdf\")]\n",
    "\n",
    "# Função de limpeza de texto\n",
    "def clean_text(text):\n",
    "    text = re.sub(r'[^\\w\\s.,;:!?()-]', '', text)\n",
    "    text = re.sub('__', '', text)\n",
    "    text = re.sub(r'\\n+', ' ', text)\n",
    "    text = re.sub(r'\\s+', ' ', text)\n",
    "    return text.strip()\n",
    "\n",
    "encoding = tiktoken.get_encoding(\"cl100k_base\")\n",
    "\n",
    "def text_to_tokens(text):\n",
    "    return encoding.encode(text)\n",
    "\n",
    "def tokens_to_text(tokens):\n",
    "    return encoding.decode(tokens)\n",
    "\n",
    "# Split por tokens\n",
    "def chunk_text_by_tokens(text, max_tokens, overlap):\n",
    "    tokens = text_to_tokens(text)\n",
    "    chunks = []\n",
    "    start = 0\n",
    "    while start < len(tokens):\n",
    "        end = min(start + max_tokens, len(tokens))\n",
    "        chunk_tokens = tokens[start:end]\n",
    "        chunk_text = tokens_to_text(chunk_tokens)\n",
    "        chunks.append(chunk_text)\n",
    "        start += max_tokens - overlap  # move com overlap\n",
    "    return chunks\n",
    "\n",
    "# Lista final de chunks com metadados\n",
    "all_chunks = []\n",
    "\n",
    "for pdf_file in pdf_files:\n",
    "    pdf_path = os.path.join(pdf_folder, pdf_file)\n",
    "    reader = PdfReader(pdf_path)\n",
    "\n",
    "    for i, page in enumerate(reader.pages, start=1):\n",
    "        page_text = page.extract_text()\n",
    "        if page_text:\n",
    "            page_text = clean_text(page_text)\n",
    "            chunks = chunk_text_by_tokens(page_text, max_tokens=1000, overlap=50)\n",
    "            \n",
    "            for chunk in chunks:\n",
    "                all_chunks.append({\n",
    "                    \"text\": chunk,\n",
    "                    \"source_file\": pdf_file,\n",
    "                    \"page_number\": i\n",
    "                })\n",
    "\n",
    "print(f\"Total de chunks gerados: {len(all_chunks)}\")\n",
    "print(\"Exemplo de chunk com metadados:\\n\", all_chunks[0])\n"
   ]
  },
  {
   "cell_type": "code",
   "execution_count": 5,
   "id": "614e5e4c",
   "metadata": {},
   "outputs": [
    {
     "name": "stdout",
     "output_type": "stream",
     "text": [
      "✅ 117 chunks salvos em D:\\Ciencia de Dados\\Projeto Integrador de Extenção 3\\RAGzilla\\project\\data\\processed\\chunks.json\n"
     ]
    }
   ],
   "source": [
    "import json\n",
    "import os\n",
    "\n",
    "# Pasta de destino\n",
    "output_folder = r\"D:\\Ciencia de Dados\\Projeto Integrador de Extenção 3\\RAGzilla\\project\\data\\processed\"\n",
    "os.makedirs(output_folder, exist_ok=True)\n",
    "\n",
    "# Nome do arquivo de saída\n",
    "output_file = os.path.join(output_folder, \"chunks.json\")\n",
    "\n",
    "# Salvar todos os chunks\n",
    "with open(output_file, \"w\", encoding=\"utf-8\") as f:\n",
    "    json.dump(all_chunks, f, ensure_ascii=False, indent=4)\n",
    "\n",
    "print(f\"✅ {len(all_chunks)} chunks salvos em {output_file}\")"
   ]
  },
  {
   "cell_type": "code",
   "execution_count": 1,
   "id": "bab06ddd",
   "metadata": {},
   "outputs": [
    {
     "name": "stdout",
     "output_type": "stream",
     "text": [
      "Total de chunks carregados: 117\n",
      "Exemplo: {'text': 'Página 1 de 12 CONTRATO DE ASSOCIAÇÃO DE EMPRESA Pelo presente instrumento e na melhor forma de direito, de um lado, AJJ SERVIÇOS CONTABÉIS LTDA, pessoa jurídica de direito privado, inscrita no CNPJ sob o nº 28. 913.7060001-63, com sede na Rua Alfred Charvet, nº 710, Bairro Vila Nova, AraucáriaPR, CEP: 83.703-278, neste ato, representada por seu sócio administrador, Jhonny Cézar de Jesus Falavinha, brasileiro, portador do RG nº 6.223.402-4 SSPPR, inscrito no CPF nº 007.724.809-07, doravante denominada EMPRESA ASSOCIADA, e de outro lado, o PARQUE CIENTÍFICO E TECNOLÓGICO DE BIOCIÊNCIAS LTDA, pessoa jurídica de direito privado, inscrito no CNPJ sob o nº 21.526.7090001-03, com sede na Rodovia PR-182, Km 320321, sn, Condomínio Industrial Biopark, no município de Toledo, Estado do Paraná, CEP 85.919-899, neste ato representada por seu sócio administrador, Victor Donaduzzi, brasileiro, inscrito no CPF sob o nº 047.139.439-40, doravante denominado BIOPARK. As Partes resolvem celebrar o presente Contrato de Associação de Empresa, em observância à legislação aplicável ao caso e em conformidade com as cláusulas e condições a seguir: PREÂMBULO Para os fins deste contrato, considera-se EMPRESA ASSOCIADA aquela formalmente vinculada ao BIOPARK, que utiliza de seus espaços e serviços para desenvolver seus negócios, porém, com presença diária no território. CLÁUSULA PRIMEIRA DO OBJETO O presente contrato tem como objeto a prestação de serviços listados a seguir, por parte do BIOPARK: Parágrafo Primeiro: Constitui objeto deste contrato a prestação', 'source_file': 'AJJ.SERVICOS.CONTABEIS.LTDA.-.Contrato.de.Empresa.Associada.1.pdf', 'page_number': 1}\n"
     ]
    }
   ],
   "source": [
    "import json\n",
    "\n",
    "input_file = r\"D:\\Ciencia de Dados\\Projeto Integrador de Extenção 3\\RAGzilla\\project\\data\\processed\\chunks.json\"\n",
    "\n",
    "with open(input_file, \"r\", encoding=\"utf-8\") as f:\n",
    "    chunks = json.load(f)\n",
    "\n",
    "print(f\"Total de chunks carregados: {len(chunks)}\")\n",
    "print(\"Exemplo:\", chunks[0])"
   ]
  },
  {
   "cell_type": "code",
   "execution_count": 2,
   "id": "f18acde3",
   "metadata": {},
   "outputs": [
    {
     "name": "stdout",
     "output_type": "stream",
     "text": [
      "✅ Embeddings gerados para todos os chunks!\n"
     ]
    }
   ],
   "source": [
    "from openai import OpenAI\n",
    "\n",
    "from dotenv import load_dotenv\n",
    "import os\n",
    "\n",
    "# Carregar variáveis do .env\n",
    "load_dotenv()\n",
    "\n",
    "# OpenAI\n",
    "client = OpenAI(api_key=os.getenv(\"OPENAI_API_KEY\"))\n",
    "\n",
    "embeddings_list = []\n",
    "\n",
    "for chunk in chunks:\n",
    "    response = client.embeddings.create(\n",
    "        model=\"text-embedding-3-small\",  # ou text-embedding-3-large\n",
    "        input=chunk[\"text\"]\n",
    "    )\n",
    "    emb = response.data[0].embedding\n",
    "    embeddings_list.append({\n",
    "        \"embedding\": emb,\n",
    "        \"source_file\": chunk[\"source_file\"],\n",
    "        \"page_number\": chunk[\"page_number\"]\n",
    "    })\n",
    "\n",
    "print(\"✅ Embeddings gerados para todos os chunks!\")"
   ]
  },
  {
   "cell_type": "code",
   "execution_count": null,
   "id": "f7cf55b4",
   "metadata": {},
   "outputs": [],
   "source": [
    "###DAQUI PARA BAIXO IGNORA"
   ]
  },
  {
   "cell_type": "code",
   "execution_count": null,
   "id": "a79b1cc7",
   "metadata": {},
   "outputs": [],
   "source": [
    "def rag_manual_chat(query, openai_client, index, threshold=0.1, top_k=3):\n",
    "    \n",
    "    # Gerar embedding da query\n",
    "    query_embedding = openai_client.embeddings.create(\n",
    "        input=query,\n",
    "        model=\"text-embedding-3-small\"\n",
    "    ).data[0].embedding\n",
    "\n",
    "    # Filtrar pelo threshold\n",
    "    matches = [m for m in response.matches if m.score >= threshold]\n",
    "\n",
    "    if not matches:\n",
    "        return \"Desculpe, não encontrei informações relevantes no manual.\"\n",
    "\n",
    "    # Montar contexto\n",
    "    contexto = \"\\n\\n\".join(\n",
    "        [f\"[Página {m.metadata.get('pagina', 'N/A')}]\\n{m.metadata.get('text', '')}\" for m in matches]\n",
    "    )\n",
    "\n",
    "    # Prompt estruturado\n",
    "    prompt = f\"\"\"\n",
    "    Você é um assistente técnico especializado em portas industriais automáticas.\n",
    "    Utilize **apenas as informações do manual abaixo** para responder à pergunta de forma precisa, técnica e completa.\n",
    "    Se a resposta não estiver claramente no manual, diga que a informação não foi encontrada.\n",
    "\n",
    "    Manual extraído:\n",
    "    {contexto}\n",
    "\n",
    "    Pergunta: {query}\n",
    "\n",
    "    Responda:\n",
    "    \"\"\"\n",
    "\n",
    "    # Gerar resposta com o modelo\n",
    "    completion = openai_client.chat.completions.create(\n",
    "        model=\"gpt-4o\",\n",
    "        messages=[\n",
    "            {\"role\": \"system\", \"content\": \"Você responde exclusivamente com base no manual técnico fornecido.\"},\n",
    "            {\"role\": \"user\", \"content\": prompt}\n",
    "        ],\n",
    "        temperature=0  # resposta objetiva, sem criatividade\n",
    "    )\n",
    "\n",
    "    resposta = completion.choices[0].message.content.strip()\n",
    "\n",
    "    return resposta"
   ]
  },
  {
   "cell_type": "markdown",
   "id": "edf11735",
   "metadata": {},
   "source": []
  },
  {
   "cell_type": "code",
   "execution_count": null,
   "id": "f03beb24",
   "metadata": {},
   "outputs": [],
   "source": [
    "query = \"parametros sobre freio\"\n",
    "response = rag_manual_chat(query, client, index)\n",
    "print(\"Resposta:\", response)\n"
   ]
  },
  {
   "cell_type": "code",
   "execution_count": null,
   "id": "219fb0e1",
   "metadata": {},
   "outputs": [],
   "source": [
    "# Example usage\n",
    "while True:\n",
    "  query = input()\n",
    "  response = rag_manual_chat(query, client, index)\n",
    "  print(f\"User: {query}\")\n",
    "  print(f\"Bot: {response}\")"
   ]
  }
 ],
 "metadata": {
  "kernelspec": {
   "display_name": ".venv (3.13.5)",
   "language": "python",
   "name": "python3"
  },
  "language_info": {
   "codemirror_mode": {
    "name": "ipython",
    "version": 3
   },
   "file_extension": ".py",
   "mimetype": "text/x-python",
   "name": "python",
   "nbconvert_exporter": "python",
   "pygments_lexer": "ipython3",
   "version": "3.13.5"
  }
 },
 "nbformat": 4,
 "nbformat_minor": 5
}
