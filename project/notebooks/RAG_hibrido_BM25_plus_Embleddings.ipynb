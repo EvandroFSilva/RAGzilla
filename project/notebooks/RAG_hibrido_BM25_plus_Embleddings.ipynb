{
 "cells": [
  {
   "cell_type": "code",
   "execution_count": 20,
   "id": "5b339233",
   "metadata": {},
   "outputs": [
    {
     "data": {
      "text/plain": [
       "'Os resultados para este código etão melhores mas ainda longe do ideal'"
      ]
     },
     "execution_count": 20,
     "metadata": {},
     "output_type": "execute_result"
    }
   ],
   "source": [
    "'''Os resultados para este código etão melhores mas ainda longe do ideal'''"
   ]
  },
  {
   "cell_type": "code",
   "execution_count": 21,
   "id": "617354ad",
   "metadata": {},
   "outputs": [
    {
     "name": "stdout",
     "output_type": "stream",
     "text": [
      "✅ 68 chunks carregados do JSON\n",
      "✅ 68 embeddings carregados\n"
     ]
    }
   ],
   "source": [
    "# %% [1] Imports e configuração\n",
    "import os, json, pickle, re, numpy as np\n",
    "from rank_bm25 import BM25Okapi\n",
    "from openai import OpenAI\n",
    "from dotenv import load_dotenv\n",
    "import faiss\n",
    "\n",
    "# Carregar variáveis do .env\n",
    "load_dotenv()\n",
    "client = OpenAI(api_key=os.getenv(\"OPENAI_API_KEY\"))\n",
    "\n",
    "# %% [2] Carregar chunks e embeddings\n",
    "# Chunks originais (para BM25)\n",
    "with open(r\"D:\\Ciencia de Dados\\Projeto Integrador de Extenção 3\\RAGzilla\\project\\data\\processed\\chunks.json\", \"r\", encoding=\"utf-8\") as f:\n",
    "    chunks = json.load(f)\n",
    "\n",
    "# Embeddings + metadados (FAISS)\n",
    "with open(\"metadata.pkl\", \"rb\") as f:\n",
    "    embeddings_list = pickle.load(f)\n",
    "\n",
    "index = faiss.read_index(\"embeddings.index\")\n",
    "\n",
    "print(f\"✅ {len(chunks)} chunks carregados do JSON\")\n",
    "print(f\"✅ {len(embeddings_list)} embeddings carregados\")\n"
   ]
  },
  {
   "cell_type": "code",
   "execution_count": 22,
   "id": "47eb6243",
   "metadata": {},
   "outputs": [
    {
     "name": "stdout",
     "output_type": "stream",
     "text": [
      "✅ Índice BM25 criado\n"
     ]
    }
   ],
   "source": [
    "import re\n",
    "import unicodedata\n",
    "\n",
    "def preprocess(text):\n",
    "    # lowercase\n",
    "    text = text.lower()\n",
    "    \n",
    "    # remover acentos\n",
    "    text = ''.join(\n",
    "        c for c in unicodedata.normalize('NFD', text)\n",
    "        if unicodedata.category(c) != 'Mn'\n",
    "    )\n",
    "    \n",
    "    # manter só letras e números (sem pontuação)\n",
    "    text = re.sub(r'[^a-z0-9\\s]', ' ', text)\n",
    "    \n",
    "    # remover espaços extras e tokenizar\n",
    "    return text.split()\n",
    "\n",
    "\n",
    "# Tokenizar chunks para BM25\n",
    "tokenized_chunks = [preprocess(chunk[\"text\"]) for chunk in chunks]\n",
    "\n",
    "# Criar índice BM25\n",
    "bm25 = BM25Okapi(tokenized_chunks)\n",
    "print(\"✅ Índice BM25 criado\")\n"
   ]
  },
  {
   "cell_type": "code",
   "execution_count": 23,
   "id": "6d7c3a80",
   "metadata": {},
   "outputs": [],
   "source": [
    "# %% [4] Função para gerar embedding da query\n",
    "import numpy as np\n",
    "\n",
    "def gerar_embedding(texto):\n",
    "    # aplica normalização na query\n",
    "    texto = ' '.join(preprocess(texto))  \n",
    "    resp = client.embeddings.create(\n",
    "        model=\"text-embedding-3-large\",\n",
    "        input=texto\n",
    "    )\n",
    "    return np.array(resp.data[0].embedding, dtype=\"float32\")\n"
   ]
  },
  {
   "cell_type": "code",
   "execution_count": 24,
   "id": "590631f6",
   "metadata": {},
   "outputs": [],
   "source": [
    "# %% [5] Função de busca híbrida BM25 + embeddings\n",
    "def buscar_hibrido(query, top_bm25=100, top_k=5, metric=\"cosine\"):\n",
    "    # 1️⃣ BM25\n",
    "    query_tokens = preprocess(query)\n",
    "    bm25_scores = bm25.get_scores(query_tokens)\n",
    "    bm25_top_idx = np.argsort(bm25_scores)[::-1][:top_bm25]\n",
    "\n",
    "    # 2️⃣ Embeddings da query\n",
    "    q_emb = gerar_embedding(query)\n",
    "    if metric in [\"cosine\", \"dot\"]:\n",
    "        q_emb = q_emb / np.linalg.norm(q_emb)\n",
    "\n",
    "    # 3️⃣ Calcular score só nos top_bm25\n",
    "    scores = []\n",
    "    for i in bm25_top_idx:\n",
    "        chunk_emb = np.array(embeddings_list[i][\"embedding\"])\n",
    "        if metric == \"cosine\" or metric == \"dot\":\n",
    "            score = np.dot(q_emb, chunk_emb)\n",
    "        else:  # l2\n",
    "            score = -np.linalg.norm(q_emb - chunk_emb)\n",
    "        scores.append((i, score))\n",
    "\n",
    "    # 4️⃣ Ordena pelo score do embedding\n",
    "    scores = sorted(scores, key=lambda x: x[1], reverse=True)\n",
    "    top_chunks = [chunks[i][\"chunk_number\"] for i, s in scores[:top_k]]\n",
    "    return top_chunks\n"
   ]
  },
  {
   "cell_type": "code",
   "execution_count": 25,
   "id": "2c907c87",
   "metadata": {},
   "outputs": [
    {
     "name": "stdout",
     "output_type": "stream",
     "text": [
      "Query: Qual contrato tem a empresa com sede na Rua Alfred Charvet\n",
      "Top 5 chunk numbers: [27, 66, 0, 49, 56]\n",
      "\n",
      "Query: ANDREY BARRETO MOLINARI COMERCIO\n",
      "Top 5 chunk numbers: [27, 45, 66, 50, 26]\n",
      "\n",
      "Query: Qual empresa é representada pelo sócio administrador Jhonny Cézar de Jesus Falavinhacontrato\n",
      "Top 5 chunk numbers: [0, 67, 27, 28, 47]\n",
      "\n",
      "Query: Jhonny Cézar de Jesus Falavinhacontrato\n",
      "Top 5 chunk numbers: [25, 32, 15, 66, 28]\n",
      "\n",
      "Query: Contrato que tenha o CNPJ 76.443.340/0001-59\n",
      "Top 5 chunk numbers: [48, 28, 1, 50, 53]\n",
      "\n"
     ]
    }
   ],
   "source": [
    "avaliacoes = [\n",
    "    {\"query\": \"Qual contrato tem a empresa com sede na Rua Alfred Charvet\", \"relevante\": [0]},  # índices dos chunks relevantes\n",
    "    {\"query\": \"ANDREY BARRETO MOLINARI COMERCIO\", \"relevante\": [32, 50]},\n",
    "    {\"query\": \"Qual empresa é representada pelo sócio administrador Jhonny Cézar de Jesus Falavinhacontrato\", \"relevante\": [0]}, \n",
    "    {\"query\": \"Jhonny Cézar de Jesus Falavinhacontrato\", \"relevante\": [0, 30, 53]},\n",
    "    {\"query\": \"Contrato que tenha o CNPJ 76.443.340/0001-59\", \"relevante\": [52]}\n",
    "]   \n",
    "\n",
    "for caso in avaliacoes:\n",
    "    top_chunks = buscar_hibrido(caso[\"query\"], top_bm25=100, top_k=5)\n",
    "    print(f\"Query: {caso['query']}\")\n",
    "    print(f\"Top 5 chunk numbers: {top_chunks}\\n\")"
   ]
  }
 ],
 "metadata": {
  "kernelspec": {
   "display_name": ".venv (3.13.5)",
   "language": "python",
   "name": "python3"
  },
  "language_info": {
   "codemirror_mode": {
    "name": "ipython",
    "version": 3
   },
   "file_extension": ".py",
   "mimetype": "text/x-python",
   "name": "python",
   "nbconvert_exporter": "python",
   "pygments_lexer": "ipython3",
   "version": "3.13.5"
  }
 },
 "nbformat": 4,
 "nbformat_minor": 5
}
