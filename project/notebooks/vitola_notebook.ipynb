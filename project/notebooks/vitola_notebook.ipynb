{
 "cells": [
  {
   "cell_type": "markdown",
   "id": "005380b1",
   "metadata": {},
   "source": [
    "### Pipeline de RAG (Retrieval-Augmented Generation)\n",
    "Este notebook implementa um fluxo completo de **extração, processamento e indexação de documentos** para um sistema de RAG. O código foi reorganizado e documentado para melhor entendimento.\n",
    "\n",
    "### Estrutura:\n",
    "- Extração de texto de PDFs\n",
    "- Limpeza e divisão em chunks\n",
    "- Criação de embeddings (OpenAI)\n",
    "- Indexação com FAISS\n",
    "- Consultas e avaliação"
   ]
  },
  {
   "cell_type": "markdown",
   "id": "44011d54",
   "metadata": {},
   "source": [
    "### 1. Importação de bibliotecas e configuração"
   ]
  },
  {
   "cell_type": "code",
   "execution_count": 31,
   "id": "2115fb0b",
   "metadata": {},
   "outputs": [],
   "source": [
    "import os\n",
    "import re\n",
    "import json\n",
    "import pickle\n",
    "import unidecode\n",
    "import numpy as np\n",
    "import pdfplumber\n",
    "import faiss\n",
    "from dotenv import load_dotenv\n",
    "from openai import OpenAI\n",
    "\n",
    "# Carregar variáveis de ambiente\n",
    "load_dotenv()\n",
    "client = OpenAI(api_key=os.getenv('OPENAI_API_KEY'))"
   ]
  },
  {
   "cell_type": "markdown",
   "id": "75da39db",
   "metadata": {},
   "source": [
    "### 2. Extração de texto dos PDFs\n",
    "Aqui utilizamos a biblioteca `pdfplumber` para abrir os PDFs e extrair o texto bruto."
   ]
  },
  {
   "cell_type": "code",
   "execution_count": 32,
   "id": "c9e1d66d",
   "metadata": {},
   "outputs": [
    {
     "name": "stderr",
     "output_type": "stream",
     "text": [
      "Cannot set gray non-stroke color because /'P1' is an invalid float value\n",
      "Cannot set gray non-stroke color because /'P2' is an invalid float value\n",
      "Cannot set gray non-stroke color because /'P3' is an invalid float value\n"
     ]
    },
    {
     "name": "stdout",
     "output_type": "stream",
     "text": [
      "Total de documentos processados: 10\n"
     ]
    }
   ],
   "source": [
    "pdf_folder = r\"D:\\\\Biopark\\\\4p\\\\PI3\\\\documents\\\\raw\"\n",
    "\n",
    "# Função de limpeza básica do texto\n",
    "def clean_text(text):\n",
    "    if not text:\n",
    "        return \"\"\n",
    "    text = unidecode.unidecode(text)  # remover acentos\n",
    "    text = re.sub(r'\\s+', ' ', text)  # normalizar espaços\n",
    "    return text.strip()\n",
    "\n",
    "# Carregar e limpar textos\n",
    "pdf_texts = []\n",
    "for file_name in os.listdir(pdf_folder):\n",
    "    if file_name.endswith(\".pdf\"):\n",
    "        with pdfplumber.open(os.path.join(pdf_folder, file_name)) as pdf:\n",
    "            text = \" \".join([page.extract_text() for page in pdf.pages if page.extract_text()])\n",
    "            pdf_texts.append(clean_text(text))\n",
    "\n",
    "print(f\"Total de documentos processados: {len(pdf_texts)}\")"
   ]
  },
  {
   "cell_type": "markdown",
   "id": "598780fe",
   "metadata": {},
   "source": [
    "### 3. Criação de Chunks\n",
    "Dividimos os textos em pedaços menores (chunks) para facilitar a geração de embeddings e busca."
   ]
  },
  {
   "cell_type": "code",
   "execution_count": 33,
   "id": "5db3982a",
   "metadata": {},
   "outputs": [
    {
     "name": "stdout",
     "output_type": "stream",
     "text": [
      "Total de chunks gerados: 80\n"
     ]
    }
   ],
   "source": [
    "def chunk_text(text, max_tokens=500):\n",
    "    words = text.split()\n",
    "    for i in range(0, len(words), max_tokens):\n",
    "        yield \" \".join(words[i:i+max_tokens])\n",
    "\n",
    "chunks = []\n",
    "for i, doc in enumerate(pdf_texts):\n",
    "    for chunk in chunk_text(doc):\n",
    "        chunks.append({\"doc_id\": i, \"text\": chunk})\n",
    "\n",
    "# Salvar em JSON\n",
    "output_folder = r\"D:\\\\Biopark\\\\4p\\\\PI3\\\\documents\\\\processed\"\n",
    "os.makedirs(output_folder, exist_ok=True)\n",
    "output_file = os.path.join(output_folder, \"chunks.json\")\n",
    "\n",
    "with open(output_file, \"w\", encoding=\"utf-8\") as f:\n",
    "    json.dump(chunks, f, ensure_ascii=False, indent=2)\n",
    "\n",
    "print(f\"Total de chunks gerados: {len(chunks)}\")"
   ]
  },
  {
   "cell_type": "markdown",
   "id": "b800b5ef",
   "metadata": {},
   "source": [
    "### 4. Geração de Embeddings\n",
    "Usamos a API da OpenAI para transformar os chunks em vetores numéricos (embeddings)."
   ]
  },
  {
   "cell_type": "code",
   "execution_count": 34,
   "id": "25f81fdf",
   "metadata": {},
   "outputs": [
    {
     "name": "stdout",
     "output_type": "stream",
     "text": [
      "Embeddings gerados: 80\n"
     ]
    }
   ],
   "source": [
    "load_dotenv()\n",
    "client = OpenAI(api_key=os.getenv(\"OPENAI_API_KEY\"))\n",
    "\n",
    "embeddings_list = []\n",
    "\n",
    "for item in chunks:\n",
    "    resp = client.embeddings.create(\n",
    "        model=\"text-embedding-3-small\",\n",
    "        input=item[\"text\"]\n",
    "    )\n",
    "    embedding = resp.data[0].embedding\n",
    "    embeddings_list.append({\"doc_id\": item[\"doc_id\"], \"text\": item[\"text\"], \"embedding\": embedding})\n",
    "\n",
    "print(f\"Embeddings gerados: {len(embeddings_list)}\")"
   ]
  },
  {
   "cell_type": "markdown",
   "id": "1781cdad",
   "metadata": {},
   "source": [
    "### 5. Indexação com FAISS\n",
    "Armazenamos os embeddings em um índice vetorial usando **FAISS** para consultas rápidas."
   ]
  },
  {
   "cell_type": "code",
   "execution_count": 35,
   "id": "db7b4a24",
   "metadata": {},
   "outputs": [
    {
     "name": "stdout",
     "output_type": "stream",
     "text": [
      "Total de vetores indexados: 80\n"
     ]
    }
   ],
   "source": [
    "# Criar matriz de embeddings\n",
    "X = np.array([item[\"embedding\"] for item in embeddings_list]).astype(\"float32\")\n",
    "\n",
    "# Criar índice FAISS\n",
    "index = faiss.IndexFlatL2(X.shape[1])\n",
    "index.add(X)\n",
    "\n",
    "# Salvar índice\n",
    "with open(os.path.join(output_folder, \"faiss_index.pkl\"), \"wb\") as f:\n",
    "    pickle.dump((index, embeddings_list), f)\n",
    "\n",
    "print(f\"Total de vetores indexados: {index.ntotal}\")"
   ]
  },
  {
   "cell_type": "markdown",
   "id": "90efe9d4",
   "metadata": {},
   "source": [
    "### 6. Consultas no Índice\n",
    "Permite buscar documentos relevantes a partir de uma pergunta do usuário."
   ]
  },
  {
   "cell_type": "code",
   "execution_count": 36,
   "id": "80f0bd6f",
   "metadata": {},
   "outputs": [
    {
     "name": "stdout",
     "output_type": "stream",
     "text": [
      "Resultado 1 - Distância: 0.9592\n",
      "CONTRATO DE ASSOCIACAO DE EMPRESA Pelo presente instrumento e na melhor forma de direito, de um lado, 3G INOVACAO - CONSULTORIA EMPRESARIAL LTDA, pessoa juridica de direito privado, inscrita no CNPJ s ...\n",
      "\n",
      "Resultado 2 - Distância: 0.9997\n",
      "em parte, por qualquer razao que seja, as demais continuarao em pleno vigor, a menos que o objeto deste Contrato seja afetado. Paragrafo Segundo: Este contrato representa a totalidade do acordo e ente ...\n",
      "\n",
      "Resultado 3 - Distância: 1.0083\n",
      "da empresa no Programa de Empresa Associada, restando encerrada a partir do momento em que o presente contrato for extinto, nao configurando locacao. D4Sign a9abc068-c8be-400e-85b3-3f4b53706107 - Para ...\n",
      "\n"
     ]
    }
   ],
   "source": [
    "def gerar_embedding(texto):\n",
    "    resp = client.embeddings.create(\n",
    "        model=\"text-embedding-3-small\",\n",
    "        input=texto\n",
    "    )\n",
    "    return np.array(resp.data[0].embedding, dtype=\"float32\")\n",
    "\n",
    "# Exemplo de busca\n",
    "consulta = \"Qual contrato tem a empresa 3G INOVACAO - CONSULTORIA EMPRESARIAL LTDA?\"\n",
    "vec = gerar_embedding(consulta).reshape(1, -1)\n",
    "\n",
    "distancias, indices = index.search(vec, k=3)\n",
    "\n",
    "for i, idx in enumerate(indices[0]):\n",
    "    print(f\"Resultado {i+1} - Distância: {distancias[0][i]:.4f}\")\n",
    "    print(embeddings_list[idx][\"text\"][:200], \"...\\n\")"
   ]
  },
  {
   "cell_type": "code",
   "execution_count": 37,
   "id": "d86ef3d7",
   "metadata": {},
   "outputs": [
    {
     "name": "stdout",
     "output_type": "stream",
     "text": [
      "\n",
      "\n",
      "Qual contrato tem a empresa 3G INOVACAO - CONSULTORIA EMPRESARIAL LTDA?\n",
      "\n",
      "Resultado 1 - Distância: 0.9596\n",
      "CONTRATO DE ASSOCIACAO DE EMPRESA Pelo presente instrumento e na melhor forma de direito, de um lado, 3G INOVACAO - CONSULTORIA EMPRESARIAL LTDA, pessoa juridica de direito privado, inscrita no CNPJ s ...\n",
      "\n",
      "Resultado 2 - Distância: 1.0001\n",
      "em parte, por qualquer razao que seja, as demais continuarao em pleno vigor, a menos que o objeto deste Contrato seja afetado. Paragrafo Segundo: Este contrato representa a totalidade do acordo e ente ...\n",
      "\n",
      "Resultado 3 - Distância: 1.0089\n",
      "deste contrato nao constituira novacao ou renuncia, nem afetara o direito da Parte prejudicada de exigir seu cumprimento a qualquer tempo. Paragrafo Primeiro: Caso qualquer uma das clausulas deste con ...\n",
      "\n",
      "\n",
      "\n",
      "Qual contrato contem THAIS BIANCA BOGADO YARED\n",
      "\n",
      "Resultado 1 - Distância: 1.0992\n",
      "caso a assinatura do presente instrumento seja feita em formato eletronico, estara reconhecida a veracidade, autenticidade, integridade, validade e eficacia deste Contrato, nos termos do art. 219 do C ...\n",
      "\n",
      "Resultado 2 - Distância: 1.1007\n",
      "CONTRATO DE ASSOCIACAO DE EMPRESA Pelo presente instrumento e na melhor forma de direito, de um lado, 35.390.225 THAIS BIANCA BOGADO YARED, pessoa juridica de direito privado, inscrita no CNPJ sob o n ...\n",
      "\n",
      "Resultado 3 - Distância: 1.1099\n",
      "deste contrato nao constituira novacao ou renuncia, nem afetara o direito da Parte prejudicada de exigir seu cumprimento a qualquer tempo. Paragrafo Primeiro: Caso qualquer uma das clausulas deste con ...\n",
      "\n"
     ]
    }
   ],
   "source": [
    "## Consultas v2\n",
    "\n",
    "def gerar_embedding(texto):\n",
    "    resp = client.embeddings.create(\n",
    "        model=\"text-embedding-3-small\",\n",
    "        input=texto\n",
    "    )\n",
    "    return np.array(resp.data[0].embedding, dtype=\"float32\")\n",
    "\n",
    "consultas = [\"Qual contrato tem a empresa 3G INOVACAO - CONSULTORIA EMPRESARIAL LTDA?\",\n",
    "             \"Qual contrato contem THAIS BIANCA BOGADO YARED\"]\n",
    "# Exemplo de busca\n",
    "for con in consultas:\n",
    "    print(f\"\\n\\n{con}\\n\")\n",
    "    vec = gerar_embedding(con).reshape(1, -1)\n",
    "    distancias, indices = index.search(vec, k=3)\n",
    "\n",
    "    for i, idx in enumerate(indices[0]):\n",
    "        print(f\"Resultado {i+1} - Distância: {distancias[0][i]:.4f}\")\n",
    "        print(embeddings_list[idx][\"text\"][:200], \"...\\n\")"
   ]
  }
 ],
 "metadata": {
  "kernelspec": {
   "display_name": ".venv",
   "language": "python",
   "name": "python3"
  },
  "language_info": {
   "codemirror_mode": {
    "name": "ipython",
    "version": 3
   },
   "file_extension": ".py",
   "mimetype": "text/x-python",
   "name": "python",
   "nbconvert_exporter": "python",
   "pygments_lexer": "ipython3",
   "version": "3.12.4"
  }
 },
 "nbformat": 4,
 "nbformat_minor": 5
}
