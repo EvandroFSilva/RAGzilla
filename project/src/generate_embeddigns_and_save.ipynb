{
 "cells": [
  {
   "cell_type": "code",
   "execution_count": null,
   "id": "f0cddf13",
   "metadata": {},
   "outputs": [
    {
     "name": "stdout",
     "output_type": "stream",
     "text": [
      "Total de chunks carregados: 60\n",
      "Exemplo de chunk: {'chunk_number': 0, 'text': 'CONTRATO DE ASSOCIAÇÃO DE EMPRESA Pelo presente instrumento e na melhor forma de direito, de um lado, AJJ SERVIÇOS CONTABÉIS LTDA, pessoa jurídica de direito privado, inscrita no CNPJ sob o nº 28.913.706/0001-63, com sede na Rua Alfred Charvet, nº 710, Bairro Vila Nova, Araucária/PR, CEP: 83.703-278, neste ato, representada por seu sócio administrador, Jhonny Cézar de Jesus Falavinha, brasileiro, portador do RG nº 6.223.402-4 SSP/PR, inscrito no CPF nº 007.724.809-07, doravante denominada EMPRESA ASSOCIADA, e de outro lado, o PARQUE CIENTÍFICO E TECNOLÓGICO DE BIOCIÊNCIAS LTDA, pessoa jurídica de direito privado, inscrito no CNPJ sob o nº 21.526.709/0001-03, com sede na Rodovia PR-182, Km 320/321, s/n, Condomínio Industrial Biopark, no município de Toledo, Estado do Paraná, CEP 85.919-899, neste ato representada por seu sócio administrador, Victor Donaduzzi, brasileiro, inscrito no CPF sob o nº 047.139.439-40, doravante denominado BIOPARK. As Partes resolvem celebrar o presente Contrato de Associação de Empresa, em observância à legislação aplicável ao caso e em conformidade com as cláusulas e condições a seguir: PREÂMBULO Para os fins deste contrato, considera-se EMPRESA ASSOCIADA aquela formalmente vinculada ao BIOPARK, que utiliza de seus espaços e serviços para desenvolver seus negócios, porém, com presença diária no território. CLÁUSULA PRIMEIRA – DO OBJETO O presente contrato tem como objeto a prestação de serviços listados a seguir, por parte do BIOPARK: Parágrafo Primeiro: Constitui objeto deste contrato a prestação de', 'source_file': 'AJJ.SERVICOS.CONTABEIS.LTDA.-.Contrato.de.Empresa.Associada.1.pdf', 'page_number': 1}\n"
     ]
    }
   ],
   "source": [
    "# ==========================================\n",
    "# Importação de bibliotecas\n",
    "# ==========================================\n",
    "import json\n",
    "import os\n",
    "import pickle\n",
    "import numpy as np\n",
    "import faiss\n",
    "from openai import OpenAI\n",
    "from dotenv import load_dotenv\n",
    "\n",
    "# ==========================================\n",
    "# Configuração do ambiente e cliente OpenAI\n",
    "# ==========================================\n",
    "load_dotenv()  # Carregar variáveis do arquivo .env\n",
    "client = OpenAI(api_key=os.getenv(\"OPENAI_API_KEY\"))  # Inicializar cliente OpenAI\n",
    "\n",
    "# ==========================================\n",
    "# Carregar os chunks de texto\n",
    "# ==========================================\n",
    "input_file = os.getenv(\"PROCESSED_JSON\")  # Caminho do JSON de chunks\n",
    "\n",
    "with open(input_file, \"r\", encoding=\"utf-8\") as f:\n",
    "    chunks = json.load(f)\n",
    "\n",
    "print(f\"Total de chunks carregados: {len(chunks)}\")\n",
    "print(\"Exemplo de chunk:\", chunks[0])\n",
    "\n",
    "# ==========================================\n",
    "# Gerar embeddings para cada chunk\n",
    "# ==========================================\n",
    "embeddings_list = []\n",
    "\n",
    "for chunk in chunks:\n",
    "    response = client.embeddings.create(\n",
    "        model=\"text-embedding-3-large\",\n",
    "        input=chunk[\"text\"]\n",
    "    )\n",
    "    \n",
    "    emb = response.data[0].embedding\n",
    "    \n",
    "    embeddings_list.append({\n",
    "        \"chunk_number\": chunk[\"chunk_number\"],\n",
    "        \"embedding\": emb,\n",
    "        \"source_file\": chunk[\"source_file\"],\n",
    "        \"page_number\": chunk[\"page_number\"]\n",
    "    })\n",
    "\n",
    "print(\"✅ Embeddings gerados para todos os chunks!\")\n",
    "\n",
    "# ==========================================\n",
    "# Criar matriz de embeddings e indexar com FAISS\n",
    "# ==========================================\n",
    "X = np.array([item[\"embedding\"] for item in embeddings_list]).astype(\"float32\")\n",
    "\n",
    "# Garantir que os embeddings na lista também estão como float32\n",
    "for i, item in enumerate(embeddings_list):\n",
    "    embeddings_list[i][\"embedding\"] = X[i]\n",
    "\n",
    "# Criar índice FAISS usando distância L2 e adicionar embeddings\n",
    "index = faiss.IndexFlatL2(X.shape[1])\n",
    "index.add(X)\n",
    "\n",
    "# ==========================================\n",
    "# Salvar índice FAISS e metadados\n",
    "# ==========================================\n",
    "\n",
    "faiss.write_index(index, \"embeddings.index\")\n",
    "with open(\"metadata.pkl\", \"wb\") as f:\n",
    "    pickle.dump(embeddings_list, f)\n",
    "\n",
    "print(f\"✅ Embeddings e metadados salvos\")\n"
   ]
  }
 ],
 "metadata": {
  "kernelspec": {
   "display_name": ".venv (3.13.5)",
   "language": "python",
   "name": "python3"
  },
  "language_info": {
   "codemirror_mode": {
    "name": "ipython",
    "version": 3
   },
   "file_extension": ".py",
   "mimetype": "text/x-python",
   "name": "python",
   "nbconvert_exporter": "python",
   "pygments_lexer": "ipython3",
   "version": "3.13.5"
  }
 },
 "nbformat": 4,
 "nbformat_minor": 5
}
